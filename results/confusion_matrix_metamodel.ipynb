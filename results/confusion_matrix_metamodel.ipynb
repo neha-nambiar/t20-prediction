{
 "cells": [
  {
   "cell_type": "code",
   "execution_count": null,
   "metadata": {},
   "outputs": [
    {
     "name": "stdout",
     "output_type": "stream",
     "text": [
      "[[443   0]\n",
      " [  0 414]]\n"
     ]
    }
   ],
   "source": [
    "# Now testing the final model using X_test\n",
    "\n",
    "pred_1 = model_1.predict(x1_test)\n",
    "pred_2 = model_2.predict(x2_test)\n",
    "pred_3 = model_3.predict(x3_test)\n",
    "\n",
    "combined_predictions = np.vstack((pred_1, pred_2, pred_3)).T\n",
    "\n",
    "final_predictions = meta_model.predict(combined_predictions)\n",
    "\n",
    "cm = confusion_matrix(final_predictions, y_test)\n",
    "print(cm)"
   ]
  }
 ],
 "metadata": {
  "language_info": {
   "name": "python"
  }
 },
 "nbformat": 4,
 "nbformat_minor": 2
}
