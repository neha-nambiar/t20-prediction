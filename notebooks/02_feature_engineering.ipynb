{
  "nbformat": 4,
  "nbformat_minor": 0,
  "metadata": {
    "colab": {
      "provenance": []
    },
    "kernelspec": {
      "name": "python3",
      "display_name": "Python 3"
    },
    "language_info": {
      "name": "python"
    }
  },
  "cells": [
    {
      "cell_type": "code",
      "execution_count": null,
      "metadata": {
        "id": "rlhSAhFiRm0y"
      },
      "outputs": [],
      "source": [
        "batsman['century'] = 0\n",
        "batsman['century'] = (batsman['runs'] // 100).astype(int)"
      ]
    },
    {
      "cell_type": "code",
      "source": [
        "batsman['fifties'] = 0\n",
        "batsman['fifties'] = (batsman['runs'] // 50).astype(int)"
      ],
      "metadata": {
        "id": "CV0sadOHqYTj"
      },
      "execution_count": null,
      "outputs": []
    },
    {
      "cell_type": "code",
      "source": [
        "bowler['4_wicket_hauls'] = 0\n",
        "bowler['4_wicket_hauls'] = (bowler['wicket_count'] // 4).astype(int)"
      ],
      "metadata": {
        "id": "9PvoeXmytQ-r"
      },
      "execution_count": null,
      "outputs": []
    },
    {
      "cell_type": "code",
      "source": [
        "bowler['5_wicket_hauls'] = 0\n",
        "bowler['5_wicket_hauls'] = (bowler['wicket_count'] // 5).astype(int)"
      ],
      "metadata": {
        "id": "tusDIX6fs9Sm"
      },
      "execution_count": null,
      "outputs": []
    },
    {
      "cell_type": "code",
      "source": [
        "won_toss_and_batted = (match_data['toss winner'] == match_data['winner']) & (match_data['toss decision'] == 'bat')\n",
        "lost_toss_and_fielded = (match_data['toss winner'] != match_data['winner']) & (match_data['toss decision'] == 'field')\n",
        "match_data['winner_1st_bat'] = won_toss_and_batted.astype(int) | lost_toss_and_fielded.astype(int)"
      ],
      "metadata": {
        "id": "ZCqXZdVARw0I"
      },
      "execution_count": null,
      "outputs": []
    },
    {
      "cell_type": "code",
      "source": [
        "match_data['team1_runs']=None\n",
        "match_data['team2_runs']=None\n",
        "match_data['team1_wickets']=None\n",
        "match_data['team2_wickets']=None\n",
        "match_data['team1_balls']=None\n",
        "match_data['team2_balls']=None\n",
        "\n",
        "for i in range(len(match_data)):\n",
        "  if ((match_data['toss winner'][i] == 'team_1') and (match_data['toss decision'][i] == 'bat') or (match_data['toss winner'][i] == 'team_2') and (match_data['toss decision'][i] == 'field')):\n",
        "    match_data['team1_runs'][i] = match_data['inning1_runs'][i]\n",
        "    match_data['team2_runs'][i] = match_data['inning2_runs'][i]\n",
        "    match_data['team1_wickets'][i] = match_data['inning1_wickets'][i]\n",
        "    match_data['team2_wickets'][i] = match_data['inning2_wickets'][i]\n",
        "    match_data['team1_balls'][i] = match_data['inning1_balls'][i]\n",
        "    match_data['team2_balls'][i] = match_data['inning2_balls'][i]\n",
        "  else:\n",
        "    match_data['team1_runs'][i] = match_data['inning2_runs'][i]\n",
        "    match_data['team2_runs'][i] = match_data['inning1_runs'][i]\n",
        "    match_data['team1_wickets'][i] = match_data['inning2_wickets'][i]\n",
        "    match_data['team2_wickets'][i] = match_data['inning1_wickets'][i]\n",
        "    match_data['team1_balls'][i] = match_data['inning2_balls'][i]\n",
        "    match_data['team2_balls'][i] = match_data['inning1_balls'][i]"
      ],
      "metadata": {
        "id": "v6N6b-98SAAT"
      },
      "execution_count": null,
      "outputs": []
    },
    {
      "cell_type": "code",
      "source": [
        "match_data['diff_runs'] = match_data['team1_runs'] - match_data['team2_runs']\n",
        "match_data['diff_wickets'] = match_data['team1_wickets'] - match_data['team2_wickets']\n",
        "match_data['diff_balls'] = match_data['team1_balls'] - match_data['team2_balls']"
      ],
      "metadata": {
        "id": "SH5XCG6EmncU"
      },
      "execution_count": null,
      "outputs": []
    },
    {
      "cell_type": "code",
      "source": [
        "match_data['team1_batting_avg'] = match_data['team1_runs'] / match_data['team2_balls']\n",
        "match_data['team1_bowling_avg'] = match_data['team1_wickets'] / match_data['team2_balls']\n",
        "match_data['team2_batting_avg'] = match_data['team2_runs'] / match_data['team1_balls']\n",
        "match_data['team2_bowling_avg'] = match_data['team2_wickets'] / match_data['team1_balls']"
      ],
      "metadata": {
        "id": "aug7pkkvxmzy"
      },
      "execution_count": null,
      "outputs": []
    },
    {
      "cell_type": "code",
      "source": [
        "match_data['diff_bowling_avg'] = match_data['team1_bowling_avg'] - match_data['team2_bowling_avg']\n",
        "match_data['diff_batting_avg'] = match_data['team1_batting_avg'] - match_data['team2_batting_avg']"
      ],
      "metadata": {
        "id": "z02iNM5pyEK2"
      },
      "execution_count": null,
      "outputs": []
    },
    {
      "cell_type": "code",
      "source": [
        "match_data['winner_team1'] = np.where(match_data['winner_id'] == match_data['team1_id'], 1, 0)"
      ],
      "metadata": {
        "id": "cdPDh0l1oBhh"
      },
      "execution_count": null,
      "outputs": []
    },
    {
      "cell_type": "code",
      "source": [
        "match_data['toss_winner'] = np.where(match_data['toss winner'] == match_data['team1'], 1, 0)"
      ],
      "metadata": {
        "id": "C3csQyB9EcZH"
      },
      "execution_count": null,
      "outputs": []
    },
    {
      "cell_type": "code",
      "source": [
        "def winpLastn(team_id, date, n):\n",
        "  \"\"\"\n",
        "  Calculates the win percentage of team_id in the last n matches.\n",
        "\n",
        "  \"\"\"\n",
        "  df = match_data[(match_data['match_dt']<date)&\\\n",
        "                    ((match_data['team1_id']==team_id)|(match_data['team2_id']==team_id))]\\\n",
        "                      .sort_values(by='match_dt', ascending=False).head(n)\n",
        "  win_count = df[df['winner_id']==team_id].shape[0]\n",
        "  if win_count == 0:\n",
        "      return 0\n",
        "  return round(win_count*100/df.shape[0], 2)"
      ],
      "metadata": {
        "id": "YYWBEZdbQo2q"
      },
      "execution_count": null,
      "outputs": []
    },
    {
      "cell_type": "code",
      "source": [
        "# Calculating the win percentage of team 1 amd team 2 in the last 3 matches.\n",
        "\n",
        "match_data['team1_win%_last3'] = match_data.apply(lambda row: winpLastn(row['team1_id'], row['match_dt'], 3), axis=1)\n",
        "match_data['team2_win%_last3'] = match_data.apply(lambda row: winpLastn(row['team2_id'], row['match_dt'], 3), axis=1)\n",
        "match_data['diff_win%_last3'] = match_data['team1_win%_last3'] - match_data['team2_win%_last3']"
      ],
      "metadata": {
        "id": "j0FSXWjtTkcZ"
      },
      "execution_count": null,
      "outputs": []
    },
    {
      "cell_type": "code",
      "source": [
        "def no50sLastn(player_list, date, n):\n",
        "\n",
        "  \"\"\"\n",
        "  Calculates the number of 50s scored by the players in a team in the last n matches.\n",
        "\n",
        "  \"\"\"\n",
        "  p1 = player_list[0]\n",
        "  df = batsman[(batsman['batsman_id']==p1)&(batsman['match_dt']<date)].sort_values(by='match_dt', ascending=False).head(n)\n",
        "  no_50s_p1 = df['fifties'].sum()\n",
        "  p2 = player_list[1]\n",
        "  df = batsman[(batsman['batsman_id']==p2)&(batsman['match_dt']<date)].sort_values(by='match_dt', ascending=False).head(n)\n",
        "  no_50s_p2 = df['fifties'].sum()\n",
        "  p3 = player_list[2]\n",
        "  df = batsman[(batsman['batsman_id']==p3)&(batsman['match_dt']<date)].sort_values(by='match_dt', ascending=False).head(n)\n",
        "  no_50s_p3 = df['fifties'].sum()\n",
        "  p4 = player_list[3]\n",
        "  df = batsman[(batsman['batsman_id']==p4)&(batsman['match_dt']<date)].sort_values(by='match_dt', ascending=False).head(n)\n",
        "  no_50s_p4 = df['fifties'].sum()\n",
        "  p5 = player_list[4]\n",
        "  df = batsman[(batsman['batsman_id']==p5)&(batsman['match_dt']<date)].sort_values(by='match_dt', ascending=False).head(n)\n",
        "  no_50s_p5 = df['fifties'].sum()\n",
        "  p6 = player_list[5]\n",
        "  df = batsman[(batsman['batsman_id']==p6)&(batsman['match_dt']<date)].sort_values(by='match_dt', ascending=False).head(n)\n",
        "  no_50s_p6 = df['fifties'].sum()\n",
        "  p7 = player_list[6]\n",
        "  df = batsman[(batsman['batsman_id']==p7)&(batsman['match_dt']<date)].sort_values(by='match_dt', ascending=False).head(n)\n",
        "  no_50s_p7 = df['fifties'].sum()\n",
        "  p8 = player_list[7]\n",
        "  df = batsman[(batsman['batsman_id']==p8)&(batsman['match_dt']<date)].sort_values(by='match_dt', ascending=False).head(n)\n",
        "  no_50s_p8 = df['fifties'].sum()\n",
        "  p9 = player_list[8]\n",
        "  df = batsman[(batsman['batsman_id']==p9)&(batsman['match_dt']<date)].sort_values(by='match_dt', ascending=False).head(n)\n",
        "  no_50s_p9 = df['fifties'].sum()\n",
        "  p10 = player_list[9]\n",
        "  df = batsman[(batsman['batsman_id']==p10)&(batsman['match_dt']<date)].sort_values(by='match_dt', ascending=False).head(n)\n",
        "  no_50s_p10 = df['fifties'].sum()\n",
        "  p11 = player_list[10]\n",
        "  df = batsman[(batsman['batsman_id']==p11)&(batsman['match_dt']<date)].sort_values(by='match_dt', ascending=False).head(n)\n",
        "  no_50s_p11 = df['fifties'].sum()\n",
        "\n",
        "  return (no_50s_p1 + no_50s_p2 + no_50s_p3 + no_50s_p4 + no_50s_p5 + no_50s_p6 + no_50s_p7 + no_50s_p8 + no_50s_p9 + no_50s_p10 + no_50s_p11)\n"
      ],
      "metadata": {
        "id": "UJNeM32-UxvF"
      },
      "execution_count": null,
      "outputs": []
    },
    {
      "cell_type": "code",
      "source": [
        "match_data['team1_no_50s_last3'] = match_data.apply(lambda row: no50sLastn(row['team1_roster_ids'], row['match_dt'], 3), axis=1)\n",
        "match_data['team2_no_50s_last3'] = match_data.apply(lambda row: no50sLastn(row['team2_roster_ids'], row['match_dt'], 3), axis=1)\n",
        "match_data['diff_no_50s_last3'] = match_data['team1_no_50s_last3'] - match_data['team2_no_50s_last3']"
      ],
      "metadata": {
        "id": "Ok4xoNJXU-gc"
      },
      "execution_count": null,
      "outputs": []
    },
    {
      "cell_type": "code",
      "source": [
        "def teamAvgRunsLastn(team_id, date, n):\n",
        "\n",
        "  \"\"\"\n",
        "  Calculates the average number of runs scored by the team in the last n matches.\n",
        "\n",
        "  \"\"\"\n",
        "\n",
        "  df = match_data[(match_data['match_dt']<date)&(match_data['team1_id']==team_id) | (match_data['match_dt']<date)&(match_data['team2_id']==team_id)].sort_values(by='match_dt', ascending=False).head(n)\n",
        "\n",
        "  avg_runs_ifteam1 = df[df['team1_id']==team_id]['team1_runs'].sum()\n",
        "  avg_runs_ifteam2 = df[df['team2_id']==team_id]['team2_runs'].sum()\n",
        "\n",
        "  return (avg_runs_ifteam1 + avg_runs_ifteam2)/n"
      ],
      "metadata": {
        "id": "JFLcLFPlVAnl"
      },
      "execution_count": null,
      "outputs": []
    },
    {
      "cell_type": "code",
      "source": [
        "match_data['team1_avg_runs_last3'] = match_data.apply(lambda row: teamAvgRunsLastn(row['team1_id'], row['match_dt'], 3), axis=1)\n",
        "match_data['team2_avg_runs_last3'] = match_data.apply(lambda row: teamAvgRunsLastn(row['team2_id'], row['match_dt'], 3), axis=1)\n",
        "match_data['diff_avg_runs_last3'] = match_data['team1_avg_runs_last3'] - match_data['team2_avg_runs_last3']"
      ],
      "metadata": {
        "id": "XJzhTcKTVhXW"
      },
      "execution_count": null,
      "outputs": []
    },
    {
      "cell_type": "code",
      "source": [
        "def teamAvgwicketsLastn(team_id, date, n):\n",
        "\n",
        "  \"\"\"\n",
        "  Calculates the average number of wickets taken by the team in the last n matches.\n",
        "\n",
        "  \"\"\"\n",
        "\n",
        "  df = match_data[(match_data['match_dt']<date)&(match_data['team1_id']==team_id) | (match_data['match_dt']<date)&(match_data['team2_id']==team_id)].sort_values(by='match_dt', ascending=False).head(n)\n",
        "\n",
        "  avg_wickets_ifteam1 = df[df['team1_id']==team_id]['team1_wickets'].sum()\n",
        "  avg_wickets_ifteam2 = df[df['team2_id']==team_id]['team2_wickets'].sum()\n",
        "\n",
        "  return (avg_wickets_ifteam1 + avg_wickets_ifteam2)/n"
      ],
      "metadata": {
        "id": "DGzG0EP29Aa3"
      },
      "execution_count": null,
      "outputs": []
    },
    {
      "cell_type": "code",
      "source": [
        "match_data['team1_avg_wickets_last3'] = match_data.apply(lambda row: teamAvgwicketsLastn(row['team1_id'], row['match_dt'], 3), axis=1)\n",
        "match_data['team2_avg_wickets_last3'] = match_data.apply(lambda row: teamAvgwicketsLastn(row['team2_id'], row['match_dt'], 3), axis=1)\n",
        "match_data['diff_avg_wickets_last3'] = match_data['team1_avg_wickets_last3'] - match_data['team2_avg_wickets_last3']"
      ],
      "metadata": {
        "id": "f1tvStYW9C_o"
      },
      "execution_count": null,
      "outputs": []
    },
    {
      "cell_type": "code",
      "source": [
        "def winpCrossLastn(team1_id, team2_id, date, n):\n",
        "\n",
        "  \"\"\"\n",
        "  Calculates the win percentage of team1_id against team2_id in the last n matches.\n",
        "\n",
        "  \"\"\"\n",
        "\n",
        "  df = match_data[(match_data['match_dt']<date)&\\\n",
        "                    (((match_data['team1_id']==team1_id)&(match_data['team2_id']==team2_id))|((match_data['team1_id']==team2_id)&(match_data['team2_id']==team1_id)))]\\\n",
        "                      .sort_values(by='match_dt', ascending=False).head(n)\n",
        "  win_count = df[df['winner_id']==team1_id].shape[0] # Counting number of rows (games) where winner is input team1.\n",
        "  if win_count == 0:\n",
        "      return 0\n",
        "  return round(win_count*100/df.shape[0], 2)"
      ],
      "metadata": {
        "id": "ExR7kqdE9hSd"
      },
      "execution_count": null,
      "outputs": []
    },
    {
      "cell_type": "code",
      "source": [
        "match_data['win_pct_3'] = match_data.apply(lambda row: winpCrossLastn(row['team1_id'], row['team2_id'], row['match_dt'], 3), axis=1)"
      ],
      "metadata": {
        "id": "OSRYLorkEH2b"
      },
      "execution_count": null,
      "outputs": []
    },
    {
      "cell_type": "code",
      "source": [
        "def avg_runs_ground(row, match_data):\n",
        "\n",
        "  \"\"\"\n",
        "  Calculates the average number of runs scored in the ground in the last n matches.\n",
        "  \"\"\"\n",
        "\n",
        "  ground_id = row['ground_id']\n",
        "  match_dt = row['match_dt']\n",
        "  n = min(5, len(match_data[(match_data['match_dt'] < match_dt) & (match_data['ground_id'] == ground_id)]))\n",
        "\n",
        "  if n > 0:\n",
        "    filtered_df = match_data[(match_data['match_dt'] < match_dt) & (match_data['ground_id'] == ground_id)].sort_values(by='match_dt', ascending=False).head(n)\n",
        "    avg_runs = (filtered_df['inning1_runs'] + filtered_df['inning2_runs']) / 2\n",
        "    return avg_runs.mean()\n",
        "  else:\n",
        "    return None"
      ],
      "metadata": {
        "id": "17BVyvmt9hPN"
      },
      "execution_count": null,
      "outputs": []
    },
    {
      "cell_type": "code",
      "source": [
        "match_data['ground_avg_runs'] = match_data.apply(lambda row: avg_runs_ground(row, match_data), axis=1)"
      ],
      "metadata": {
        "id": "HlzjsuKHB7OL"
      },
      "execution_count": null,
      "outputs": []
    },
    {
      "cell_type": "code",
      "source": [
        "# Filling NaN values for grounds where previous data is not available using the next available value for that ground id.\n",
        "\n",
        "for ground_id in match_data['ground_id'].unique():\n",
        "\n",
        "  ground_data = match_data[match_data['ground_id'] == ground_id]\n",
        "  # Find the first non-NaN value from the beginning\n",
        "  first_non_nan = ground_data['ground_avg_runs'].notna().idxmax()\n",
        "  # Forward fill NaN values using the first non-NaN and a mask\n",
        "  match_data.loc[ground_data.index, 'ground_avg_runs'] = ground_data['ground_avg_runs'].fillna(ground_data['ground_avg_runs'].shift(-1), limit=first_non_nan)"
      ],
      "metadata": {
        "id": "sAi3IiyDjj2D"
      },
      "execution_count": null,
      "outputs": []
    },
    {
      "cell_type": "code",
      "source": [
        "# Filling remaining values with mean values\n",
        "\n",
        "average_runs = match_data['ground_avg_runs'].mean()\n",
        "match_data['ground_avg_runs'] = match_data['ground_avg_runs'].fillna(average_runs)"
      ],
      "metadata": {
        "id": "gjY6OLuJjFSe"
      },
      "execution_count": null,
      "outputs": []
    },
    {
      "cell_type": "code",
      "source": [
        "def avg_wickets_ground(row, match_data):\n",
        "\n",
        "  \"\"\"\n",
        "  Calculates the average number of wickets taken in the ground in the last n matches.\n",
        "  \"\"\"\n",
        "\n",
        "  ground_id = row['ground_id']\n",
        "  match_dt = row['match_dt']\n",
        "  n = min(5, len(match_data[(match_data['match_dt'] < match_dt) & (match_data['ground_id'] == ground_id)]))\n",
        "\n",
        "  if n > 0:\n",
        "    filtered_df = match_data[(match_data['match_dt'] < match_dt) & (match_data['ground_id'] == ground_id)].sort_values(by='match_dt', ascending=False).head(n)\n",
        "    avg_wickets = (filtered_df['inning1_wickets'] + filtered_df['inning2_wickets']) / 2\n",
        "    return avg_wickets.mean()\n",
        "  else:\n",
        "    return None"
      ],
      "metadata": {
        "id": "9aKT7eKI9w_g"
      },
      "execution_count": null,
      "outputs": []
    },
    {
      "cell_type": "code",
      "source": [
        "match_data['ground_avg_wickets'] = match_data.apply(lambda row: avg_wickets_ground(row, match_data), axis=1)"
      ],
      "metadata": {
        "id": "5m6-KV-B9w8J"
      },
      "execution_count": null,
      "outputs": []
    },
    {
      "cell_type": "code",
      "source": [
        "# Filling NaN values for grounds where previous data is not available using the next available value for that ground id.\n",
        "\n",
        "for ground_id in match_data['ground_id'].unique():\n",
        "\n",
        "  ground_data = match_data[match_data['ground_id'] == ground_id]\n",
        "  # Find the first non-NaN value from the beginning\n",
        "  first_non_nan = ground_data['ground_avg_wickets'].notna().idxmax()\n",
        "  # Forward fill NaN values using the first non-NaN and a mask\n",
        "  match_data.loc[ground_data.index, 'ground_avg_wickets'] = ground_data['ground_avg_wickets'].fillna(ground_data['ground_avg_wickets'].shift(-1), limit=first_non_nan)"
      ],
      "metadata": {
        "id": "AunDqQYpMlJL"
      },
      "execution_count": null,
      "outputs": []
    },
    {
      "cell_type": "code",
      "source": [
        "# Filling remaining values with mean values\n",
        "\n",
        "average_wickets = match_data['ground_avg_wickets'].mean()\n",
        "match_data['ground_avg_wickets'] = match_data['ground_avg_wickets'].fillna(average_wickets)"
      ],
      "metadata": {
        "id": "BwbrOjcRMlJf"
      },
      "execution_count": null,
      "outputs": []
    },
    {
      "cell_type": "code",
      "source": [
        "# Dropping some columns\n",
        "\n",
        "match_data.drop(['inning1_runs', 'inning2_runs', 'inning1_wickets', 'inning2_wickets', 'inning1_balls', 'inning2_balls'], axis=1, inplace=True)"
      ],
      "metadata": {
        "id": "bb1-QtpUVFef"
      },
      "execution_count": null,
      "outputs": []
    },
    {
      "cell_type": "code",
      "source": [
        "# Batting avg = Runs scored / Balls faced\n",
        "# Bowling avg = Wickets / Balls faced\n",
        "\n",
        "match_data['team1_batting_avg'] = match_data['team1_runs'] / match_data['team2_balls']\n",
        "match_data['team1_bowling_avg'] = match_data['team1_wickets'] / match_data['team2_balls']\n",
        "match_data['team2_batting_avg'] = match_data['team2_runs'] / match_data['team1_balls']\n",
        "match_data['team2_bowling_avg'] = match_data['team2_wickets'] / match_data['team1_balls']"
      ],
      "metadata": {
        "id": "SbadtARFWo_W"
      },
      "execution_count": null,
      "outputs": []
    },
    {
      "cell_type": "code",
      "source": [
        "# Finding the difference in stores between team 1 and team 2 in all categories\n",
        "\n",
        "match_data['diff_runs'] = match_data['team1_runs'] - match_data['team2_runs']\n",
        "match_data['diff_wickets'] = match_data['team1_wickets'] - match_data['team2_wickets']\n",
        "match_data['diff_balls'] = match_data['team1_balls'] - match_data['team2_balls']"
      ],
      "metadata": {
        "id": "sSPXBHA1Wo_V"
      },
      "execution_count": null,
      "outputs": []
    },
    {
      "cell_type": "code",
      "source": [
        "match_data['diff_bowling_avg'] = match_data['team1_bowling_avg'] - match_data['team2_bowling_avg']\n",
        "match_data['diff_batting_avg'] = match_data['team1_batting_avg'] - match_data['team2_batting_avg']"
      ],
      "metadata": {
        "id": "aZ6MVXwDWo_W"
      },
      "execution_count": null,
      "outputs": []
    },
    {
      "cell_type": "code",
      "source": [
        "# Setting winner_id column to binary, ie 1 if team 1 wins else 0\n",
        "match_data['winner_team1'] = np.where(match_data['winner_id'] == match_data['team1_id'], 1, 0)"
      ],
      "metadata": {
        "id": "0KufAghlWo_X"
      },
      "execution_count": null,
      "outputs": []
    },
    {
      "cell_type": "code",
      "source": [
        "batsman['batsman_style'].unique()"
      ],
      "metadata": {
        "colab": {
          "base_uri": "https://localhost:8080/"
        },
        "id": "JoyMOsG4WkOP",
        "outputId": "07a93f87-9198-45ef-a50e-9e4960bb3691"
      },
      "execution_count": null,
      "outputs": [
        {
          "output_type": "execute_result",
          "data": {
            "text/plain": [
              "array(['Right-hand bat', 'Left-hand bat', 'None'], dtype=object)"
            ]
          },
          "metadata": {},
          "execution_count": 96
        }
      ]
    },
    {
      "cell_type": "code",
      "source": [
        "batsman_temp = batsman.drop('match_dt', axis=1)\n",
        "bowler_temp = bowler.drop('match_dt', axis=1)"
      ],
      "metadata": {
        "id": "MM1ZF9B0Ydxi"
      },
      "execution_count": null,
      "outputs": []
    },
    {
      "cell_type": "code",
      "source": [
        "match_data['team1_rhb'] = None    # Count of batsman with Right-hand batting style\n",
        "match_data['team2_rhb'] = None\n",
        "match_data['team1_lhb'] = None    # Count of batsman with Left-hand batting style\n",
        "match_data['team2_lhb'] = None\n",
        "\n",
        "\n",
        "for i in range(len(match_data)):\n",
        "\n",
        "  match_batsman = batsman_temp[batsman_temp['match id']==match_data['match id'][i]]\n",
        "  match_bowler = bowler_temp[bowler_temp['match id']==match_data['match id'][i]]\n",
        "  team1_batsman = match_batsman[match_batsman['batsman_id'].isin(match_data['team1_roster_ids'][i])]\n",
        "  team1_bowler = match_bowler[match_bowler['bowler_id'].isin(match_data['team1_roster_ids'][i])]\n",
        "  team2_batsman = match_batsman[match_batsman['batsman_id'].isin(match_data['team2_roster_ids'][i])]\n",
        "  team2_bowler = match_bowler[match_bowler['bowler_id'].isin(match_data['team2_roster_ids'][i])]\n",
        "\n",
        "# team 1\n",
        "  try:\n",
        "    team1_rhb = len(team1_batsman[team1_batsman['batsman_style'] == 'Right-hand bat'])\n",
        "  except IndexError:\n",
        "    team1_rhb = 0\n",
        "  try:\n",
        "    team1_lhb = len(team1_batsman[team1_batsman['batsman_style'] == 'Left-hand bat'])\n",
        "  except IndexError:\n",
        "    team1_lhb = 0\n",
        "\n",
        "# team 2\n",
        "  try:\n",
        "    team2_rhb = len(team2_batsman[team2_batsman['batsman_style'] == 'Right-hand bat'])\n",
        "  except IndexError:\n",
        "    team2_rhb = 0\n",
        "  try:\n",
        "    team2_lhb = len(team2_batsman[team2_batsman['batsman_style'] == 'Left-hand bat'])\n",
        "  except IndexError:\n",
        "    team2_lhb = 0"
      ],
      "metadata": {
        "id": "iJ1C63P0XVKQ"
      },
      "execution_count": null,
      "outputs": []
    },
    {
      "cell_type": "code",
      "source": [
        "bowler['bowler_style'].unique()"
      ],
      "metadata": {
        "colab": {
          "base_uri": "https://localhost:8080/"
        },
        "id": "IKf1d-m4XF7A",
        "outputId": "48107a6f-01ad-4c2c-eb02-cb809486cee4"
      },
      "execution_count": null,
      "outputs": [
        {
          "output_type": "execute_result",
          "data": {
            "text/plain": [
              "array(['Right-arm medium-fast', 'Legbreak googly',\n",
              "       'Slow left-arm orthodox', 'Right-arm medium', 'Right-arm offbreak',\n",
              "       'Right-arm fast-medium', 'Left-arm fast-medium', 'Legbreak',\n",
              "       'Left-arm wrist-spin', 'Right-arm fast', 'Left-arm medium-fast',\n",
              "       'Left-arm medium', 'None', 'Left-arm fast', 'Left-arm slow-medium',\n",
              "       'Left-arm slow'], dtype=object)"
            ]
          },
          "metadata": {},
          "execution_count": 97
        }
      ]
    },
    {
      "cell_type": "code",
      "source": [
        "# Doing the same for bowlers\n",
        "\n",
        "match_data['team1_rmf'] = None      # 'Right-arm medium-fast'\n",
        "match_data['team1_lg'] = None       # 'Legbreak googly'\n",
        "match_data['team1_slo'] = None      # 'Slow left-arm orthodox'\n",
        "match_data['team1_rm'] = None       # 'Right-arm medium'\n",
        "match_data['team1_ro'] = None       # 'Right-arm offbreak'\n",
        "match_data['team1_rfm'] = None      # 'Right-arm fast-medium'\n",
        "match_data['team1_lfm'] = None      # 'Left-arm fast-medium'\n",
        "match_data['team1_l'] = None        # 'Legbreak'\n",
        "match_data['team1_lws'] = None      # 'Left-arm wrist-spin'\n",
        "match_data['team1_rf'] = None       # 'Right-arm fast'\n",
        "match_data['team1_lmf'] = None      # 'Left-arm medium-fast'\n",
        "match_data['team1_lm'] = None       # 'Left-arm medium\n",
        "match_data['team1_lf'] = None       # 'Left-arm fast'\n",
        "match_data['team1_lsm'] = None      # 'Left-arm slow-medium'\n",
        "match_data['team1_ls'] = None       # 'Left-arm slow'\n",
        "\n",
        "match_data['team2_rmf'] = None\n",
        "match_data['team2_lg'] = None\n",
        "match_data['team2_slo'] = None\n",
        "match_data['team2_rm'] = None\n",
        "match_data['team2_ro'] = None\n",
        "match_data['team2_rfm'] = None\n",
        "match_data['team2_lfm'] = None\n",
        "match_data['team2_l'] = None\n",
        "match_data['team2_lws'] = None\n",
        "match_data['team2_rf'] = None\n",
        "match_data['team2_lmf'] = None\n",
        "match_data['team2_lm'] = None\n",
        "match_data['team2_lf'] = None\n",
        "match_data['team2_lsm'] = None\n",
        "match_data['team2_ls'] = None\n",
        "\n",
        "for i in range(len(match_data)):\n",
        "\n",
        "  match_batsman = batsman_temp[batsman_temp['match id']==match_data['match id'][i]]\n",
        "  match_bowler = bowler_temp[bowler_temp['match id']==match_data['match id'][i]]\n",
        "  team1_batsman = match_batsman[match_batsman['batsman_id'].isin(match_data['team1_roster_ids'][i])]\n",
        "  team1_bowler = match_bowler[match_bowler['bowler_id'].isin(match_data['team1_roster_ids'][i])]\n",
        "  team2_batsman = match_batsman[match_batsman['batsman_id'].isin(match_data['team2_roster_ids'][i])]\n",
        "  team2_bowler = match_bowler[match_bowler['bowler_id'].isin(match_data['team2_roster_ids'][i])]\n",
        "\n",
        "# team 1\n",
        "  try:\n",
        "    match_data['team1_rmf'][i] = team1_bowler[team1_bowler['bowler_style']=='Right-arm medium-fast'].shape[0]\n",
        "  except KeyError:\n",
        "    match_data['team1_rmf'][i] = 0\n",
        "  try:\n",
        "    match_data['team1_lg'][i] = team1_bowler[team1_bowler['bowler_style']=='Legbreak googly'].shape[0]\n",
        "  except KeyError:\n",
        "    match_data['team1_lg'][i] = 0\n",
        "  try:\n",
        "    match_data['team1_slo'][i] = team1_bowler[team1_bowler['bowler_style']=='Slow left-arm orthodox'].shape[0]\n",
        "  except KeyError:\n",
        "    match_data['team1_slo'][i] = 0\n",
        "  try:\n",
        "    match_data['team1_rm'][i] = team1_bowler[team1_bowler['bowler_style']=='Right-arm medium'].shape[0]\n",
        "  except KeyError:\n",
        "    match_data['team1_rm'][i] = 0\n",
        "  try:\n",
        "    match_data['team1_ro'][i] = team1_bowler[team1_bowler['bowler_style']=='Right-arm offbreak'].shape[0]\n",
        "  except KeyError:\n",
        "    match_data['team1_ro'][i] = 0\n",
        "  try:\n",
        "    match_data['team1_rfm'][i] = team1_bowler[team1_bowler['bowler_style']=='Right-arm fast-medium'].shape[0]\n",
        "  except KeyError:\n",
        "    match_data['team1_rfm'][i] = 0\n",
        "  try:\n",
        "    match_data['team1_lfm'][i] = team1_bowler[team1_bowler['bowler_style']=='Left-arm fast-medium'].shape[0]\n",
        "  except KeyError:\n",
        "    match_data['team1_lfm'][i] = 0\n",
        "  try:\n",
        "    match_data['team1_l'][i] = team1_bowler[team1_bowler['bowler_style']=='Legbreak'].shape[0]\n",
        "  except KeyError:\n",
        "    match_data['team1_l'][i] = 0\n",
        "  try:\n",
        "    match_data['team1_lws'][i] = team1_bowler[team1_bowler['bowler_style']=='Left-arm wrist-spin'].shape[0]\n",
        "  except KeyError:\n",
        "    match_data['team1_lws'][i] = 0\n",
        "  try:\n",
        "    match_data['team1_rf'][i] = team1_bowler[team1_bowler['bowler_style']=='Right-arm fast'].shape[0]\n",
        "  except KeyError:\n",
        "    match_data['team1_rf'][i] = 0\n",
        "  try:\n",
        "    match_data['team1_lmf'][i] = team1_bowler[team1_bowler['bowler_style']=='Left-arm medium-fast'].shape[0]\n",
        "  except KeyError:\n",
        "    match_data['team1_lmf'][i] = 0\n",
        "  try:\n",
        "    match_data['team1_lm'][i] = team1_bowler[team1_bowler['bowler_style']=='Left-arm medium'].shape[0]\n",
        "  except KeyError:\n",
        "    match_data['team1_lm'][i] = 0\n",
        "  try:\n",
        "    match_data['team1_lf'][i] = team1_bowler[team1_bowler['bowler_style']=='Left-arm fast'].shape[0]\n",
        "  except KeyError:\n",
        "    match_data['team1_lf'][i] = 0\n",
        "  try:\n",
        "    match_data['team1_lsm'][i] = team1_bowler[team1_bowler['bowler_style']=='Left-arm slow-medium'].shape[0]\n",
        "  except KeyError:\n",
        "    match_data['team1_lsm'][i] = 0\n",
        "  try:\n",
        "    match_data['team1_ls'][i] = team1_bowler[team1_bowler['bowler_style']=='Left-arm slow'].shape[0]\n",
        "  except KeyError:\n",
        "    match_data['team1_ls'][i] = 0\n",
        "\n",
        "# team 2\n",
        "  try:\n",
        "    match_data['team2_rmf'][i] = team2_bowler[team2_bowler['bowler_style']=='Right-arm medium-fast'].shape[0]\n",
        "  except KeyError:\n",
        "    match_data['team2_rmf'][i] = 0\n",
        "  try:\n",
        "    match_data['team2_lg'][i] = team2_bowler[team2_bowler['bowler_style']=='Legbreak googly'].shape[0]\n",
        "  except KeyError:\n",
        "    match_data['team2_lg'][i] = 0\n",
        "  try:\n",
        "    match_data['team2_slo'][i] = team2_bowler[team2_bowler['bowler_style']=='Slow left-arm orthodox'].shape[0]\n",
        "  except KeyError:\n",
        "    match_data['team2_slo'][i] = 0\n",
        "  try:\n",
        "    match_data['team2_rm'][i] = team2_bowler[team2_bowler['bowler_style']=='Right-arm medium'].shape[0]\n",
        "  except KeyError:\n",
        "    match_data['team2_rm'][i] = 0\n",
        "  try:\n",
        "    match_data['team2_ro'][i] = team2_bowler[team2_bowler['bowler_style']=='Right-arm offbreak'].shape[0]\n",
        "  except KeyError:\n",
        "    match_data['team2_ro'][i] = 0\n",
        "  try:\n",
        "    match_data['team2_rfm'][i] = team2_bowler[team2_bowler['bowler_style']=='Right-arm fast-medium'].shape[0]\n",
        "  except KeyError:\n",
        "    match_data['team2_rfm'][i] = 0\n",
        "  try:\n",
        "    match_data['team2_lfm'][i] = team2_bowler[team2_bowler['bowler_style']=='Left-arm fast-medium'].shape[0]\n",
        "  except KeyError:\n",
        "    match_data['team2_lfm'][i] = 0\n",
        "  try:\n",
        "    match_data['team2_l'][i] = team2_bowler[team2_bowler['bowler_style']=='Legbreak'].shape[0]\n",
        "  except KeyError:\n",
        "    match_data['team2_l'][i] = 0\n",
        "  try:\n",
        "    match_data['team2_lws'][i] = team2_bowler[team2_bowler['bowler_style']=='Left-arm wrist-spin'].shape[0]\n",
        "  except KeyError:\n",
        "    match_data['team2_lws'][i] = 0\n",
        "  try:\n",
        "    match_data['team2_rf'][i] = team2_bowler[team2_bowler['bowler_style']=='Right-arm fast'].shape[0]\n",
        "  except KeyError:\n",
        "    match_data['team2_rf'][i] = 0\n",
        "  try:\n",
        "    match_data['team2_lmf'][i] = team2_bowler[team2_bowler['bowler_style']=='Left-arm medium-fast'].shape[0]\n",
        "  except KeyError:\n",
        "    match_data['team2_lmf'][i] = 0\n",
        "  try:\n",
        "    match_data['team2_lm'][i] = team2_bowler[team2_bowler['bowler_style']=='Left-arm medium'].shape[0]\n",
        "  except KeyError:\n",
        "    match_data['team2_lm'][i] = 0\n",
        "  try:\n",
        "    match_data['team2_lf'][i] = team2_bowler[team2_bowler['bowler_style']=='Left-arm fast'].shape[0]\n",
        "  except KeyError:\n",
        "    match_data['team2_lf'][i] = 0\n",
        "  try:\n",
        "    match_data['team2_lsm'][i] = team2_bowler[team2_bowler['bowler_style']=='Left-arm slow-medium'].shape[0]\n",
        "  except KeyError:\n",
        "    match_data['team2_lsm'][i] = 0\n",
        "  try:\n",
        "    match_data['team2_ls'][i] = team2_bowler[team2_bowler['bowler_style']=='Left-arm slow'].shape[0]\n",
        "  except KeyError:\n",
        "    match_data['team2_ls'][i] = 0\n"
      ],
      "metadata": {
        "id": "WzW9zaEMXQyd"
      },
      "execution_count": null,
      "outputs": []
    },
    {
      "cell_type": "code",
      "source": [
        "batsman['wicket kind'].unique()"
      ],
      "metadata": {
        "id": "6mH7EKXkEzi7",
        "colab": {
          "base_uri": "https://localhost:8080/"
        },
        "outputId": "7870d5d1-0602-4295-8707-468cbb4b3e16"
      },
      "execution_count": null,
      "outputs": [
        {
          "output_type": "execute_result",
          "data": {
            "text/plain": [
              "array(['caught', 'not out', 'bowled', 'lbw', 'stumped', 'run out',\n",
              "       'caught and bowled', 'retired not out', 'retired hurt',\n",
              "       'hit wicket', 'retired out'], dtype=object)"
            ]
          },
          "metadata": {},
          "execution_count": 107
        }
      ]
    },
    {
      "cell_type": "code",
      "source": [
        "# Count of different kinds of wickets scored by both teams\n",
        "\n",
        "for i in range(len(match_data)):\n",
        "\n",
        "  match_batsman = batsman_temp[batsman_temp['match id']==match_data['match id'][i]]\n",
        "  match_bowler = bowler_temp[bowler_temp['match id']==match_data['match id'][i]]\n",
        "  team1_batsman = match_batsman[match_batsman['batsman_id'].isin(match_data['team1_roster_ids'][i])]\n",
        "  team1_bowler = match_bowler[match_bowler['bowler_id'].isin(match_data['team1_roster_ids'][i])]\n",
        "  team2_batsman = match_batsman[match_batsman['batsman_id'].isin(match_data['team2_roster_ids'][i])]\n",
        "  team2_bowler = match_bowler[match_bowler['bowler_id'].isin(match_data['team2_roster_ids'][i])]\n",
        "\n",
        "  match_data['team1_not_out'] = None\n",
        "  match_data['team1_caught'] = None\n",
        "  match_data['team1_bowled'] = None\n",
        "  match_data['team1_lbw'] = None\n",
        "  match_data['team1_stumped'] = None\n",
        "  match_data['team1_runout'] = None\n",
        "  match_data['team1_retired_hurt'] = None\n",
        "  match_data['team1_hit_wicket'] = None\n",
        "  match_data['team1_caught_bowled'] = None\n",
        "  match_data['team1_retired_out'] = None\n",
        "  match_data['team1_retired_not_out'] = None\n",
        "\n",
        "  match_data['team2_not_out'] = None\n",
        "  match_data['team2_caught'] = None\n",
        "  match_data['team2_bowled'] = None\n",
        "  match_data['team2_lbw'] = None\n",
        "  match_data['team2_stumped'] = None\n",
        "  match_data['team2_runout'] = None\n",
        "  match_data['team2_retired_hurt'] = None\n",
        "  match_data['team2_hit_wicket'] = None\n",
        "  match_data['team2_caught_bowled'] = None\n",
        "  match_data['team2_retired_out'] = None\n",
        "  match_data['team2_retired_not_out'] = None\n",
        "\n",
        "# team 1\n",
        "  try:\n",
        "    match_data['team1_not_out'][i] = len(team1_batsman[team1_batsman['wicket kind'] == 'not out'])\n",
        "  except KeyError:\n",
        "    match_data['team1_not_out'][i] = 0\n",
        "  try:\n",
        "    match_data['team1_caught'][i] = len(team1_batsman[team1_batsman['wicket kind'] == 'caught'])\n",
        "  except KeyError:\n",
        "    match_data['team1_caught'][i] = 0\n",
        "  try:\n",
        "    match_data['team1_bowled'][i] = len(team1_batsman[team1_batsman['wicket kind'] == 'bowled'])\n",
        "  except KeyError:\n",
        "    match_data['team1_bowled'][i] = 0\n",
        "  try:\n",
        "    match_data['team1_lbw'][i] = len(team1_batsman[team1_batsman['wicket kind'] == 'lbw'])\n",
        "  except KeyError:\n",
        "    match_data['team1_lbw'][i] = 0\n",
        "  try:\n",
        "    match_data['team1_stumped'][i] = len(team1_batsman[team1_batsman['wicket kind'] == 'stumped'])\n",
        "  except KeyError:\n",
        "    match_data['team1_stumped'][i] = 0\n",
        "  try:\n",
        "    match_data['team1_runout'][i] = len(team1_batsman[team1_batsman['wicket kind'] == 'run out'])\n",
        "  except KeyError:\n",
        "    match_data['team1_runout'][i] = 0\n",
        "  try:\n",
        "    match_data['team1_retired_hurt'][i] = len(team1_batsman[team1_batsman['wicket kind'] == 'retired hurt'])\n",
        "  except KeyError:\n",
        "    match_data['team1_retired_hurt'][i] = 0\n",
        "  try:\n",
        "    match_data['team1_hit_wicket'][i] = len(team1_batsman[team1_batsman['wicket kind'] == 'hit wicket'])\n",
        "  except KeyError:\n",
        "    match_data['team1_hit_wicket'][i] = 0\n",
        "  try:\n",
        "    match_data['team1_caught_bowled'][i] = len(team1_batsman[team1_batsman['wicket kind'] == 'caught and bowled'])\n",
        "  except KeyError:\n",
        "    match_data['team1_caught_bowled'][i] = 0\n",
        "  try:\n",
        "    match_data['team1_retired_not_out'][i] = len(team1_batsman[team1_batsman['wicket kind'] == 'retired not out'])\n",
        "  except KeyError:\n",
        "    match_data['team1_retired_not_out'][i] = 0\n",
        "  try:\n",
        "    match_data['team1_retired_out'][i] = len(team1_batsman[team1_batsman['wicket kind'] == 'retired out'])\n",
        "  except KeyError:\n",
        "    match_data['team1_retired_out'][i] = 0\n",
        "\n",
        "# team 2\n",
        "  try:\n",
        "    match_data['team2_not_out'][i] = len(team2_batsman[team2_batsman['wicket kind'] == 'not out'])\n",
        "  except KeyError:\n",
        "    match_data['team2_not_out'][i] = 0\n",
        "  try:\n",
        "    match_data['team2_caught'][i] = len(team2_batsman[team2_batsman['wicket kind'] == 'caught'])\n",
        "  except KeyError:\n",
        "    match_data['team2_caught'][i] = 0\n",
        "  try:\n",
        "    match_data['team2_bowled'][i] = len(team2_batsman[team2_batsman['wicket kind'] == 'bowled'])\n",
        "  except KeyError:\n",
        "    match_data['team2_bowled'][i] = 0\n",
        "  try:\n",
        "    match_data['team2_lbw'][i] = len(team2_batsman[team2_batsman['wicket kind'] == 'lbw'])\n",
        "  except KeyError:\n",
        "    match_data['team2_lbw'][i] = 0\n",
        "  try:\n",
        "    match_data['team2_stumped'][i] = len(team2_batsman[team2_batsman['wicket kind'] == 'stumped'])\n",
        "  except KeyError:\n",
        "    match_data['team2_stumped'][i] = 0\n",
        "  try:\n",
        "    match_data['team2_runout'][i] = len(team2_batsman[team2_batsman['wicket kind'] == 'run out'])\n",
        "  except KeyError:\n",
        "    match_data['team2_runout'][i] = 0\n",
        "  try:\n",
        "    match_data['team2_retired_hurt'][i] = len(team2_batsman[team2_batsman['wicket kind'] == 'retired hurt'])\n",
        "  except KeyError:\n",
        "    match_data['team2_retired_hurt'][i] = 0\n",
        "  try:\n",
        "    match_data['team2_hit_wicket'][i] = len(team2_batsman[team2_batsman['wicket kind'] == 'hit wicket'])\n",
        "  except KeyError:\n",
        "    match_data['team2_hit_wicket'][i] = 0\n",
        "  try:\n",
        "    match_data['team2_caught_bowled'][i] = len(team2_batsman[team2_batsman['wicket kind'] == 'caught and bowled'])\n",
        "  except KeyError:\n",
        "    match_data['team2_caught_bowled'][i] = 0\n",
        "  try:\n",
        "    match_data['team2_retired_not_out'][i] = len(team2_batsman[team2_batsman['wicket kind'] == 'retired not out'])\n",
        "  except KeyError:\n",
        "    match_data['team2_retired_not_out'][i] = 0\n",
        "  try:\n",
        "    match_data['team2_retired_out'][i] = len(team2_batsman[team2_batsman['wicket kind'] == 'retired out'])\n",
        "  except KeyError:\n",
        "    match_data['team2_retired_out'][i] = 0"
      ],
      "metadata": {
        "id": "549yG69KF-ei"
      },
      "execution_count": null,
      "outputs": []
    },
    {
      "cell_type": "code",
      "source": [
        "# Team scores using the player scores of respective teams\n",
        "\n",
        "for i in range(len(match_data)):\n",
        "\n",
        "  match_batsman = batsman_temp[batsman_temp['match id']==match_data['match id'][i]]\n",
        "  match_bowler = bowler_temp[bowler_temp['match id']==match_data['match id'][i]]\n",
        "  team1_batsman = match_batsman[match_batsman['batsman_id'].isin(match_data['team1_roster_ids'][i])]\n",
        "  team1_bowler = match_bowler[match_bowler['bowler_id'].isin(match_data['team1_roster_ids'][i])]\n",
        "  team2_batsman = match_batsman[match_batsman['batsman_id'].isin(match_data['team2_roster_ids'][i])]\n",
        "  team2_bowler = match_bowler[match_bowler['bowler_id'].isin(match_data['team2_roster_ids'][i])]\n",
        "\n",
        "# team 1\n",
        "  match_data['team1_strike_rate'] = None\n",
        "  match_data['team1_fours'] = None\n",
        "  match_data['team1_sixes'] = None\n",
        "  match_data['team1_century'] = None\n",
        "  match_data['team1_fifties'] = None\n",
        "  match_data['team1_runs_conceded'] = None\n",
        "  match_data['team1_wicket_count'] = None\n",
        "  match_data['team1_4_wicket_hauls'] = None\n",
        "  match_data['team1_5_wicket_hauls'] = None\n",
        "  match_data['team1_economy'] = None\n",
        "  match_data['team1_maiden'] = None\n",
        "  match_data['team1_dots'] = None\n",
        "  match_data['team1_wides'] = None\n",
        "  match_data['team1_noballs'] = None\n",
        "\n",
        "  match_data['team1_strike_rate'][i] = team1_batsman['strike_rate'].sum()\n",
        "  match_data['team1_fours'][i] = team1_batsman['Fours'].sum()\n",
        "  match_data['team1_sixes'][i] = team1_batsman['Sixes'].sum()\n",
        "  match_data['team1_century'][i] = team1_batsman['century'].sum()\n",
        "  match_data['team1_fifties'][i] = team1_batsman['fifties'].sum()\n",
        "  match_data['team1_runs_conceded'][i] = team1_bowler['runs'].sum()\n",
        "  match_data['team1_wicket_count'][i] = team1_bowler['wicket_count'].sum()\n",
        "  match_data['team1_4_wicket_hauls'][i] = team1_bowler['4_wicket_hauls'].sum()\n",
        "  match_data['team1_5_wicket_hauls'][i] = team1_bowler['5_wicket_hauls'].sum()\n",
        "  match_data['team1_economy'][i] = team1_bowler['economy'].sum()\n",
        "  match_data['team1_maiden'][i] = team1_bowler['maiden'].sum()\n",
        "  match_data['team1_dots'][i] = team1_bowler['dots'].sum()\n",
        "  match_data['team1_fours'][i] = team1_batsman['Fours'].sum()\n",
        "  match_data['team1_sixes'][i] = team1_batsman['Sixes'].sum()\n",
        "  match_data['team1_wides'][i] = team1_bowler['wides'].sum()\n",
        "  match_data['team1_noballs'][i] = team1_bowler['noballs'].sum()\n",
        "\n",
        "# team 2\n",
        "  match_data['team2_strike_rate'] = None\n",
        "  match_data['team2_fours'] = None\n",
        "  match_data['team2_sixes'] = None\n",
        "  match_data['team2_century'] = None\n",
        "  match_data['team2_fifties'] = None\n",
        "  match_data['team2_runs_conceded'] = None\n",
        "  match_data['team2_wicket_count'] = None\n",
        "  match_data['team2_4_wicket_hauls'] = None\n",
        "  match_data['team2_5_wicket_hauls'] = None\n",
        "  match_data['team2_economy'] = None\n",
        "  match_data['team2_maiden'] = None\n",
        "  match_data['team2_dots'] = None\n",
        "  match_data['team2_wides'] = None\n",
        "  match_data['team2_noballs'] = None\n",
        "\n",
        "  match_data['team2_strike_rate'][i] = team2_batsman['strike_rate'].sum()\n",
        "  match_data['team2_fours'][i] = team2_batsman['Fours'].sum()\n",
        "  match_data['team2_sixes'][i] = team2_batsman['Sixes'].sum()\n",
        "  match_data['team2_century'][i] = team2_batsman['century'].sum()\n",
        "  match_data['team2_fifties'][i] = team2_batsman['fifties'].sum()\n",
        "  match_data['team2_runs_conceded'][i] = team2_bowler['runs'].sum()\n",
        "  match_data['team2_wicket_count'][i] = team2_bowler['wicket_count'].sum()\n",
        "  match_data['team2_4_wicket_hauls'][i] = team2_bowler['4_wicket_hauls'].sum()\n",
        "  match_data['team2_5_wicket_hauls'][i] = team2_bowler['5_wicket_hauls'].sum()\n",
        "  match_data['team2_economy'][i] = team2_bowler['economy'].sum()\n",
        "  match_data['team2_maiden'][i] = team2_bowler['maiden'].sum()\n",
        "  match_data['team2_dots'][i] = team2_bowler['dots'].sum()\n",
        "  match_data['team2_fours'][i] = team2_batsman['Fours'].sum()\n",
        "  match_data['team2_sixes'][i] = team2_batsman['Sixes'].sum()\n",
        "  match_data['team2_wides'][i] = team2_bowler['wides'].sum()\n",
        "  match_data['team2_noballs'][i] = team2_bowler['noballs'].sum()"
      ],
      "metadata": {
        "id": "TtgiYDxmdghG"
      },
      "execution_count": null,
      "outputs": []
    },
    {
      "cell_type": "code",
      "source": [
        "# Boundary rate = (No. of fours + No. of sixes) / Balls faced\n",
        "\n",
        "match_data['team1_boundary_rate'] = (match_data['team1_fours'] + match_data['team1_sixes'])/match_data['team2_balls']\n",
        "match_data['team2_boundary_rate'] = (match_data['team2_fours'] + match_data['team2_sixes'])/match_data['team1_balls']"
      ],
      "metadata": {
        "id": "62EYyE4Vfraz"
      },
      "execution_count": null,
      "outputs": []
    },
    {
      "cell_type": "code",
      "source": [
        "match_data['diff_boundary_rate'] = match_data['team1_boundary_rate'] - match_data['team2_boundary_rate']\n",
        "match_data['diff_strike_rate'] = match_data['team1_strike_rate'] - match_data['team2_strike_rate']\n",
        "match_data['diff_fours'] = match_data['team1_fours'] - match_data['team2_fours']\n",
        "match_data['diff_sixes'] = match_data['team1_sixes'] - match_data['team2_sixes']\n",
        "match_data['diff_century'] = match_data['team1_century'] - match_data['team2_century']\n",
        "match_data['diff_fifties'] = match_data['team1_fifties'] - match_data['team2_fifties']\n",
        "match_data['diff_runs_conceded'] = match_data['team1_runs_conceded'] - match_data['team2_runs_conceded']\n",
        "match_data['diff_wicket_count'] = match_data['team1_wicket_count'] - match_data['team2_wicket_count']\n",
        "match_data['diff_4_wicket_hauls'] = match_data['team1_4_wicket_hauls'] - match_data['team2_4_wicket_hauls']\n",
        "match_data['diff_5_wicket_hauls'] = match_data['team1_5_wicket_hauls'] - match_data['team2_5_wicket_hauls']\n",
        "match_data['diff_economy'] = match_data['team1_economy'] - match_data['team2_economy']\n",
        "match_data['diff_noballs'] = match_data['team1_noballs'] - match_data['team2_noballs']\n",
        "match_data['diff_maiden'] = match_data['team1_maiden'] - match_data['team2_maiden']\n",
        "match_data['diff_dots'] = match_data['team1_dots'] - match_data['team2_dots']\n",
        "match_data['diff_wides'] = match_data['team1_wides'] - match_data['team2_wides']\n",
        "match_data['diff_not_out'] = match_data['team1_not_out'] - match_data['team2_not_out']"
      ],
      "metadata": {
        "id": "dDHKIVekf2K8"
      },
      "execution_count": null,
      "outputs": []
    }
  ]
}