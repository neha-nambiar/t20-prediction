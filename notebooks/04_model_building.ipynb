{
  "nbformat": 4,
  "nbformat_minor": 0,
  "metadata": {
    "colab": {
      "provenance": []
    },
    "kernelspec": {
      "name": "python3",
      "display_name": "Python 3"
    },
    "language_info": {
      "name": "python"
    }
  },
  "cells": [
    {
      "cell_type": "code",
      "source": [
        "!pip install catboost"
      ],
      "metadata": {
        "id": "sh-qusbJkF8c"
      },
      "execution_count": null,
      "outputs": []
    },
    {
      "cell_type": "code",
      "source": [
        "from catboost import CatBoostClassifier\n",
        "from sklearn.model_selection import train_test_split"
      ],
      "metadata": {
        "id": "QcEl7dIEaqHA"
      },
      "execution_count": null,
      "outputs": []
    },
    {
      "cell_type": "code",
      "source": [
        "match_data = match_data.drop(['winner', 'match id', 'match_dt', 'team1_roster_ids', 'team2_roster_ids'], axis=1)"
      ],
      "metadata": {
        "id": "6Z_rjYm_kqPb"
      },
      "execution_count": null,
      "outputs": []
    },
    {
      "cell_type": "code",
      "source": [
        "# Shuffling dataset\n",
        "\n",
        "match_data = match_data.sample(frac=1, random_state=1234)"
      ],
      "metadata": {
        "id": "Q_NdN2px4ir0"
      },
      "execution_count": null,
      "outputs": []
    },
    {
      "cell_type": "code",
      "source": [
        "match_data.shape"
      ],
      "metadata": {
        "colab": {
          "base_uri": "https://localhost:8080/"
        },
        "id": "QJrWCzqX4ne6",
        "outputId": "488463bc-8d0e-4227-9499-e8d824039766"
      },
      "execution_count": null,
      "outputs": [
        {
          "output_type": "execute_result",
          "data": {
            "text/plain": [
              "(1689, 154)"
            ]
          },
          "metadata": {},
          "execution_count": 66
        }
      ]
    },
    {
      "cell_type": "code",
      "source": [
        "1689/3"
      ],
      "metadata": {
        "colab": {
          "base_uri": "https://localhost:8080/"
        },
        "id": "OxEUQi3W4waE",
        "outputId": "d2077b73-8986-476a-c1e2-f2fe071eb0b3"
      },
      "execution_count": null,
      "outputs": [
        {
          "output_type": "execute_result",
          "data": {
            "text/plain": [
              "563.0"
            ]
          },
          "metadata": {},
          "execution_count": 73
        }
      ]
    },
    {
      "cell_type": "code",
      "source": [
        "# I have separted the data along columns and to be used to train 3 separate models.\n",
        "# These 3 models will be then combined and then trained as a combined meta-model that contains all column features.\n",
        "# I have combined the data into as train, validation and test splits.\n",
        "# X_train will be used to train the 3 initial models.\n",
        "# X_val will be used to train the combined meta model.\n",
        "# X_test will be used to check the accuracy of the final model.\n",
        "# Each dataset X_train, X_val and X_test will be splitted to train and validation sets for training their respective model.\n",
        "\n",
        "X_train = match_data[:563]                      # small models training\n",
        "X_val = match_data[563:832]                     # meta model training\n",
        "X_test = match_data[832:]                       # test set\n",
        "y_train = X_train['winner_team1']\n",
        "y_val = X_val['winner_team1']\n",
        "y_test = X_test['winner_team1']"
      ],
      "metadata": {
        "id": "J0JnxSJF5Bmw"
      },
      "execution_count": null,
      "outputs": []
    },
    {
      "cell_type": "code",
      "source": [
        "match_1 = X_train[['team1_rf', 'team1_rfm','team1_l', 'team1_lf', 'team1_lfm', 'team1_lg','team2_lhb', 'team2_lm',\n",
        "                  'team1_lmf', 'team1_ls', 'team1_lsm', 'team1_lws',  'team2_l', 'team2_lbw', 'team2_lf', 'team2_lg',\n",
        "                  'team2_ls', 'team2_lsm', 'team2_lws', 'team2_rmf','team2_ro','team1_lbw','team2_rhb', 'team1_slo', 'team2_slo',\n",
        "                  'team1_rhb','team1_ro','team2_rm','team2_lfm','team2_rfm','team2_rf','team1_lhb','team1_lm','team2_lmf',\n",
        "                   'by','city','win amount','umpire1','umpire2','venue','win_pct_3', 'team1_id', 'team2_id',\n",
        "                  'ground_avg_wickets', 'ground_avg_runs','ground_id', 'lighting',\n",
        "                  'season', 'series_name', 'series_type', 'winner_1st_bat','toss decision','toss winner',\n",
        "                  ]]\n",
        "\n",
        "match_2 = X_train[['team1_runs','team2_runs','team1_balls','team2_avg_runs_last3','team1_fours','team2_caught',\n",
        "                  'team2_wides','team2_boundary_rate','team2_sixes','team2_bowling_avg','team1_batting_avg','team1_no_50s_last3','team1_wickets',\n",
        "                   'team2_balls','team2_wicket_count','team2_fours','team1_sixes','team1_wides','team2_fifties','team2_wickets',\n",
        "                  'team1_runs_conceded','team1_maiden','team2_batting_avg','team1_bowling_avg', 'team1_strike_rate','team2_avg_wickets_last3',\n",
        "                  'team1_boundary_rate','team1_avg_wickets_last3','team2_century', 'team2_dots','team1_4_wicket_hauls', 'team1_5_wicket_hauls',\n",
        "                   'team1_avg_runs_last3', 'team1_bowled', 'team1_caught_bowled','team1_century', 'team1_dots', 'team1_economy',\n",
        "                   'team1_fifties', 'team1_hit_wicket', 'team1_wicket_count','team2_4_wicket_hauls','team2_5_wicket_hauls','team2_maiden',\n",
        "                   'team2_no_50s_last3','team2_runs_conceded','team2_strike_rate','team1_noballs', 'team1_not_out', 'team1_retired_hurt',\n",
        "                   'team1_retired_not_out', 'team1_retired_out','team2_retired_out','team2_noballs','team2_retired_hurt','team2_retired_not_out',\n",
        "                   'team1_rm', 'team1_rmf', 'team1_runout', 'team1_stumped', 'team2_bowled',\n",
        "                   'team2_caught_bowled',  'team2_hit_wicket','team2_runout','team2_stumped','team2_not_out','team1_caught'\n",
        "                   ]]\n",
        "\n",
        "match_3 = X_train[['diff_century', 'diff_dots', 'diff_fours', 'diff_maiden', 'diff_wicket_count', 'diff_wickets','diff_sixes',\n",
        "                   'diff_4_wicket_hauls', 'diff_5_wicket_hauls', 'diff_avg_runs_last3','diff_strike_rate','diff_noballs','diff_boundary_rate',\n",
        "                   'diff_avg_wickets_last3', 'diff_batting_avg','diff_not_out','diff_no_50s_last3','diff_runs','diff_bowling_avg',\n",
        "                   'diff_runs_conceded', 'diff_economy', 'diff_wides','diff_balls','diff_fifties']]"
      ],
      "metadata": {
        "id": "s1znXVeA3xBO"
      },
      "execution_count": null,
      "outputs": []
    },
    {
      "cell_type": "code",
      "source": [
        "match_4 = X_val.drop('winner_team1', axis=1)"
      ],
      "metadata": {
        "id": "Nb_gGuxKsJ77"
      },
      "execution_count": null,
      "outputs": []
    },
    {
      "cell_type": "markdown",
      "source": [
        "**model 1**"
      ],
      "metadata": {
        "id": "HuS5TNHeIZiu"
      }
    },
    {
      "cell_type": "code",
      "source": [
        "cat_features_1 = ['toss decision', 'venue', 'lighting', 'series_name', 'season', 'series_type', 'ground_id',\n",
        "                  'toss winner', 'by', 'city', 'umpire1', 'umpire2', 'team1_id', 'team2_id', 'winner_1st_bat']"
      ],
      "metadata": {
        "id": "Ewe1gFLSrtWA"
      },
      "execution_count": null,
      "outputs": []
    },
    {
      "cell_type": "code",
      "source": [
        "X_1 = match_1\n",
        "y_1 = y_train\n",
        "\n",
        "X_train_1, X_validation_1, y_train_1, y_validation_1 = train_test_split(X_1, y_1, train_size=0.7, random_state=1234)\n",
        "X_val_1, X_test_1, y_val_1, y_test_1 = train_test_split(X_validation_1, y_validation_1, train_size=0.5, random_state=1234)\n",
        "model_1 = CatBoostClassifier(verbose=100)\n",
        "model_1.fit(X_train_1, y_train_1, eval_set=(X_val_1, y_val_1))"
      ],
      "metadata": {
        "colab": {
          "base_uri": "https://localhost:8080/"
        },
        "id": "k4CUusKEBnfz",
        "outputId": "d7bf9366-acda-4356-c400-46dce73473a3"
      },
      "execution_count": null,
      "outputs": [
        {
          "output_type": "stream",
          "name": "stdout",
          "text": [
            "Learning rate set to 0.025177\n",
            "0:\tlearn: 0.6401898\ttest: 0.6399038\tbest: 0.6399038 (0)\ttotal: 3.22ms\tremaining: 3.22s\n",
            "100:\tlearn: 0.0079788\ttest: 0.0082435\tbest: 0.0082435 (100)\ttotal: 219ms\tremaining: 1.95s\n",
            "200:\tlearn: 0.0023942\ttest: 0.0024496\tbest: 0.0024496 (200)\ttotal: 448ms\tremaining: 1.78s\n",
            "300:\tlearn: 0.0013699\ttest: 0.0013987\tbest: 0.0013987 (300)\ttotal: 679ms\tremaining: 1.57s\n",
            "400:\tlearn: 0.0011064\ttest: 0.0011392\tbest: 0.0011392 (400)\ttotal: 1.11s\tremaining: 1.66s\n",
            "500:\tlearn: 0.0010171\ttest: 0.0010572\tbest: 0.0010572 (500)\ttotal: 1.66s\tremaining: 1.65s\n",
            "600:\tlearn: 0.0009797\ttest: 0.0010224\tbest: 0.0010224 (593)\ttotal: 2.13s\tremaining: 1.41s\n",
            "700:\tlearn: 0.0009797\ttest: 0.0010224\tbest: 0.0010224 (593)\ttotal: 2.64s\tremaining: 1.13s\n",
            "800:\tlearn: 0.0009797\ttest: 0.0010224\tbest: 0.0010224 (593)\ttotal: 3.15s\tremaining: 783ms\n",
            "900:\tlearn: 0.0009670\ttest: 0.0010105\tbest: 0.0010105 (878)\ttotal: 3.64s\tremaining: 400ms\n",
            "999:\tlearn: 0.0009670\ttest: 0.0010105\tbest: 0.0010105 (878)\ttotal: 4.14s\tremaining: 0us\n",
            "\n",
            "bestTest = 0.001010498449\n",
            "bestIteration = 878\n",
            "\n",
            "Shrink model to first 879 iterations.\n"
          ]
        },
        {
          "output_type": "execute_result",
          "data": {
            "text/plain": [
              "<catboost.core.CatBoostClassifier at 0x7c7b51352380>"
            ]
          },
          "metadata": {},
          "execution_count": 122
        }
      ]
    },
    {
      "cell_type": "code",
      "source": [
        "def print_feature_importance(feature_importances, feature_names):\n",
        "\n",
        "    feature_importance_pairs = [(feature_names[i], importance) for i, importance in enumerate(feature_importances)]\n",
        "    feature_importance_pairs = sorted(feature_importance_pairs, key=lambda x: x[1], reverse=True)\n",
        "    print(\"Feature Importance (Descending Order):\")\n",
        "    for feature_name, importance in feature_importance_pairs:\n",
        "        print(f\"{feature_name}: {importance}\")\n",
        "\n",
        "print_feature_importance(model_1.feature_importances_, X_train_1.columns)"
      ],
      "metadata": {
        "colab": {
          "base_uri": "https://localhost:8080/"
        },
        "id": "wA99wV2coI72",
        "outputId": "4479f420-28e0-40d6-fd4f-b39b0337be65"
      },
      "execution_count": null,
      "outputs": [
        {
          "output_type": "stream",
          "name": "stdout",
          "text": [
            "Feature Importance (Descending Order):\n",
            "winner_1st_bat: 56.11991541260103\n",
            "by: 35.93629816506745\n",
            "venue: 0.34716094772012884\n",
            "ground_avg_runs: 0.29160148413504505\n",
            "team2_lfm: 0.2863040735504059\n",
            "toss winner: 0.2793208035918539\n",
            "team1_ro: 0.2736596523095324\n",
            "team1_lg: 0.27305891515989367\n",
            "umpire1: 0.2653612299065407\n",
            "team2_ro: 0.2635528156713413\n",
            "series_name: 0.2533898248039433\n",
            "season: 0.24973884910571856\n",
            "team1_lfm: 0.24946132504949364\n",
            "team1_rfm: 0.23400482059744984\n",
            "team2_lf: 0.22909699222351487\n",
            "team2_rf: 0.22887839350358882\n",
            "team2_l: 0.2287068750168005\n",
            "team2_lws: 0.22567342094852375\n",
            "team2_slo: 0.22438993031339866\n",
            "team2_lg: 0.2140361119904645\n",
            "team2_lmf: 0.2135644284452269\n",
            "umpire2: 0.19962338012932737\n",
            "team1_id: 0.19421503507121404\n",
            "team1_slo: 0.1911353754973239\n",
            "win amount: 0.17737840678610067\n",
            "team2_rmf: 0.17260701759664418\n",
            "win_pct_3: 0.16976261229682402\n",
            "series_type: 0.16858140098507296\n",
            "team1_lmf: 0.16644057868604165\n",
            "team2_rfm: 0.16085961727385842\n",
            "team1_rf: 0.15756292802376232\n",
            "team2_rm: 0.14515368981512758\n",
            "team1_lf: 0.14041150876504127\n",
            "city: 0.13750975486262315\n",
            "ground_id: 0.13569037658543387\n",
            "team1_l: 0.12348371560038605\n",
            "lighting: 0.11931348218134662\n",
            "team2_id: 0.11665170906211882\n",
            "ground_avg_wickets: 0.11278753407423141\n",
            "team2_lm: 0.1019377619532193\n",
            "team1_lws: 0.09956148901098648\n",
            "toss decision: 0.06585255960982231\n",
            "team1_lm: 0.050669032458932985\n",
            "team1_lsm: 0.005636561963220883\n",
            "team2_lhb: 0.0\n",
            "team1_ls: 0.0\n",
            "team2_lbw: 0.0\n",
            "team2_ls: 0.0\n",
            "team2_lsm: 0.0\n",
            "team1_lbw: 0.0\n",
            "team2_rhb: 0.0\n",
            "team1_rhb: 0.0\n",
            "team1_lhb: 0.0\n"
          ]
        }
      ]
    },
    {
      "cell_type": "code",
      "source": [
        "from sklearn.metrics import confusion_matrix\n",
        "\n",
        "y_pred_1 = model_1.predict(X_test_1)\n",
        "cm = confusion_matrix(y_test_1, y_pred_1)\n",
        "print(cm)"
      ],
      "metadata": {
        "id": "SK8hzoYJ868A",
        "colab": {
          "base_uri": "https://localhost:8080/"
        },
        "outputId": "0ed91da4-7d41-4c4f-fb6a-d545dd4080d1"
      },
      "execution_count": null,
      "outputs": [
        {
          "output_type": "stream",
          "name": "stdout",
          "text": [
            "[[48  0]\n",
            " [ 0 37]]\n"
          ]
        }
      ]
    },
    {
      "cell_type": "markdown",
      "source": [
        "**model 2**"
      ],
      "metadata": {
        "id": "Y_rUS9IVIffY"
      }
    },
    {
      "cell_type": "code",
      "source": [
        "X_2 = match_2\n",
        "y_2 = y_train\n",
        "\n",
        "X_train_2, X_validation_2, y_train_2, y_validation_2 = train_test_split(X_2, y_2, train_size=0.7, random_state=7544)\n",
        "X_val_2, X_test_2, y_val_2, y_test_2 = train_test_split(X_validation_2, y_validation_2, train_size=0.5, random_state=877)\n",
        "model_2 = CatBoostClassifier(verbose=100)\n",
        "model_2.fit(X_train_2, y_train_2, eval_set=(X_val_2, y_val_2))"
      ],
      "metadata": {
        "colab": {
          "base_uri": "https://localhost:8080/"
        },
        "id": "SoaODLn48_Hx",
        "outputId": "700e89e5-3181-47f0-9567-99d2fba1b190"
      },
      "execution_count": null,
      "outputs": [
        {
          "output_type": "stream",
          "name": "stdout",
          "text": [
            "Learning rate set to 0.025177\n",
            "0:\tlearn: 0.6651119\ttest: 0.6626481\tbest: 0.6626481 (0)\ttotal: 3.3ms\tremaining: 3.3s\n",
            "100:\tlearn: 0.1260374\ttest: 0.1795804\tbest: 0.1795804 (100)\ttotal: 230ms\tremaining: 2.05s\n",
            "200:\tlearn: 0.0660778\ttest: 0.1558850\tbest: 0.1553806 (192)\ttotal: 477ms\tremaining: 1.89s\n",
            "300:\tlearn: 0.0391917\ttest: 0.1588111\tbest: 0.1553806 (192)\ttotal: 711ms\tremaining: 1.65s\n",
            "400:\tlearn: 0.0240760\ttest: 0.1564609\tbest: 0.1545731 (359)\ttotal: 952ms\tremaining: 1.42s\n",
            "500:\tlearn: 0.0173447\ttest: 0.1583156\tbest: 0.1545731 (359)\ttotal: 1.18s\tremaining: 1.18s\n",
            "600:\tlearn: 0.0134691\ttest: 0.1598578\tbest: 0.1545731 (359)\ttotal: 1.43s\tremaining: 952ms\n",
            "700:\tlearn: 0.0112687\ttest: 0.1635393\tbest: 0.1545731 (359)\ttotal: 1.67s\tremaining: 711ms\n",
            "800:\tlearn: 0.0096510\ttest: 0.1678914\tbest: 0.1545731 (359)\ttotal: 1.89s\tremaining: 470ms\n",
            "900:\tlearn: 0.0080945\ttest: 0.1706627\tbest: 0.1545731 (359)\ttotal: 2.13s\tremaining: 234ms\n",
            "999:\tlearn: 0.0070108\ttest: 0.1716073\tbest: 0.1545731 (359)\ttotal: 2.37s\tremaining: 0us\n",
            "\n",
            "bestTest = 0.1545731476\n",
            "bestIteration = 359\n",
            "\n",
            "Shrink model to first 360 iterations.\n"
          ]
        },
        {
          "output_type": "execute_result",
          "data": {
            "text/plain": [
              "<catboost.core.CatBoostClassifier at 0x7c7b8999e680>"
            ]
          },
          "metadata": {},
          "execution_count": 125
        }
      ]
    },
    {
      "cell_type": "code",
      "source": [
        "def print_feature_importance(feature_importances, feature_names):\n",
        "\n",
        "    feature_importance_pairs = [(feature_names[i], importance) for i, importance in enumerate(feature_importances)]\n",
        "    feature_importance_pairs = sorted(feature_importance_pairs, key=lambda x: x[1], reverse=True)\n",
        "    print(\"Feature Importance (Descending Order):\")\n",
        "    for feature_name, importance in feature_importance_pairs:\n",
        "        print(f\"{feature_name}: {importance}\")\n",
        "\n",
        "print_feature_importance(model_2.feature_importances_, X_train_2.columns)"
      ],
      "metadata": {
        "colab": {
          "base_uri": "https://localhost:8080/"
        },
        "outputId": "1bf92ee0-8708-4d63-ec7a-fff2b4818a77",
        "id": "ffjvUxAY_FKq"
      },
      "execution_count": null,
      "outputs": [
        {
          "output_type": "stream",
          "name": "stdout",
          "text": [
            "Feature Importance (Descending Order):\n",
            "team1_bowling_avg: 20.285879570367484\n",
            "team1_wickets: 14.01491634975487\n",
            "team1_balls: 13.74155746248886\n",
            "team2_runs: 10.804571670867402\n",
            "team1_runs: 7.466312871834229\n",
            "team1_batting_avg: 7.290784295528973\n",
            "team2_batting_avg: 5.6433121407229985\n",
            "team2_bowling_avg: 3.8632928423018438\n",
            "team2_avg_runs_last3: 2.695796992593068\n",
            "team1_avg_runs_last3: 2.247132554048744\n",
            "team1_avg_wickets_last3: 2.232646675046583\n",
            "team2_balls: 1.806548317928784\n",
            "team2_wickets: 1.699884590043164\n",
            "team2_avg_wickets_last3: 1.527113112323558\n",
            "team1_no_50s_last3: 1.4321014542895547\n",
            "team1_rm: 1.3182685658631181\n",
            "team1_rmf: 1.0335094909823548\n",
            "team2_no_50s_last3: 0.8963710430144021\n",
            "team1_fours: 0.0\n",
            "team2_caught: 0.0\n",
            "team2_wides: 0.0\n",
            "team2_boundary_rate: 0.0\n",
            "team2_sixes: 0.0\n",
            "team2_wicket_count: 0.0\n",
            "team2_fours: 0.0\n",
            "team1_sixes: 0.0\n",
            "team1_wides: 0.0\n",
            "team2_fifties: 0.0\n",
            "team1_runs_conceded: 0.0\n",
            "team1_maiden: 0.0\n",
            "team1_strike_rate: 0.0\n",
            "team1_boundary_rate: 0.0\n",
            "team2_century: 0.0\n",
            "team2_dots: 0.0\n",
            "team1_4_wicket_hauls: 0.0\n",
            "team1_5_wicket_hauls: 0.0\n",
            "team1_bowled: 0.0\n",
            "team1_caught_bowled: 0.0\n",
            "team1_century: 0.0\n",
            "team1_dots: 0.0\n",
            "team1_economy: 0.0\n",
            "team1_fifties: 0.0\n",
            "team1_hit_wicket: 0.0\n",
            "team1_wicket_count: 0.0\n",
            "team2_4_wicket_hauls: 0.0\n",
            "team2_5_wicket_hauls: 0.0\n",
            "team2_maiden: 0.0\n",
            "team2_runs_conceded: 0.0\n",
            "team2_strike_rate: 0.0\n",
            "team1_noballs: 0.0\n",
            "team1_not_out: 0.0\n",
            "team1_retired_hurt: 0.0\n",
            "team1_retired_not_out: 0.0\n",
            "team1_retired_out: 0.0\n",
            "team2_retired_out: 0.0\n",
            "team2_noballs: 0.0\n",
            "team2_retired_hurt: 0.0\n",
            "team2_retired_not_out: 0.0\n",
            "team1_runout: 0.0\n",
            "team1_stumped: 0.0\n",
            "team2_bowled: 0.0\n",
            "team2_caught_bowled: 0.0\n",
            "team2_hit_wicket: 0.0\n",
            "team2_runout: 0.0\n",
            "team2_stumped: 0.0\n",
            "team2_not_out: 0.0\n",
            "team1_caught: 0.0\n"
          ]
        }
      ]
    },
    {
      "cell_type": "code",
      "source": [
        "from sklearn.metrics import confusion_matrix\n",
        "\n",
        "y_pred_2 = model_2.predict(X_test_2)\n",
        "cm = confusion_matrix(y_test_2, y_pred_2)\n",
        "print(cm)"
      ],
      "metadata": {
        "id": "-83DNRCf8p_w",
        "colab": {
          "base_uri": "https://localhost:8080/"
        },
        "outputId": "289aa53b-f932-4172-893f-b0a217272a68"
      },
      "execution_count": null,
      "outputs": [
        {
          "output_type": "stream",
          "name": "stdout",
          "text": [
            "[[48  5]\n",
            " [ 2 30]]\n"
          ]
        }
      ]
    },
    {
      "cell_type": "markdown",
      "source": [
        "**model 3**"
      ],
      "metadata": {
        "id": "G_u1N1SqIo0M"
      }
    },
    {
      "cell_type": "code",
      "source": [
        "X_3 = match_3\n",
        "y_3 = y_train\n",
        "\n",
        "X_train_3, X_validation_3, y_train_3, y_validation_3 = train_test_split(X_3, y_3, train_size=0.7, random_state=7544)\n",
        "X_val_3, X_test_3, y_val_3, y_test_3 = train_test_split(X_validation_3, y_validation_3, train_size=0.5, random_state=877)\n",
        "model_3 = CatBoostClassifier(verbose=100)\n",
        "model_3.fit(X_train_3, y_train_3, eval_set=(X_val_3, y_val_3))"
      ],
      "metadata": {
        "colab": {
          "base_uri": "https://localhost:8080/"
        },
        "outputId": "9cb3270e-5f31-445b-e758-9eba71618f90",
        "id": "Z8ricfMrJYfm"
      },
      "execution_count": null,
      "outputs": [
        {
          "output_type": "stream",
          "name": "stdout",
          "text": [
            "Learning rate set to 0.025177\n",
            "0:\tlearn: 0.6476595\ttest: 0.6440030\tbest: 0.6440030 (0)\ttotal: 1.81ms\tremaining: 1.81s\n",
            "100:\tlearn: 0.0145259\ttest: 0.0113109\tbest: 0.0113109 (100)\ttotal: 149ms\tremaining: 1.32s\n",
            "200:\tlearn: 0.0049832\ttest: 0.0040813\tbest: 0.0040813 (200)\ttotal: 302ms\tremaining: 1.2s\n",
            "300:\tlearn: 0.0031374\ttest: 0.0026577\tbest: 0.0026577 (300)\ttotal: 437ms\tremaining: 1.01s\n",
            "400:\tlearn: 0.0020677\ttest: 0.0018454\tbest: 0.0018449 (399)\ttotal: 584ms\tremaining: 873ms\n",
            "500:\tlearn: 0.0017178\ttest: 0.0015956\tbest: 0.0015954 (498)\ttotal: 736ms\tremaining: 733ms\n",
            "600:\tlearn: 0.0015397\ttest: 0.0014978\tbest: 0.0014929 (561)\ttotal: 903ms\tremaining: 599ms\n",
            "700:\tlearn: 0.0014954\ttest: 0.0014908\tbest: 0.0014899 (690)\ttotal: 1.15s\tremaining: 489ms\n",
            "800:\tlearn: 0.0014579\ttest: 0.0014895\tbest: 0.0014891 (728)\ttotal: 1.47s\tremaining: 366ms\n",
            "900:\tlearn: 0.0014433\ttest: 0.0014884\tbest: 0.0014878 (870)\ttotal: 1.76s\tremaining: 194ms\n",
            "999:\tlearn: 0.0014336\ttest: 0.0014915\tbest: 0.0014878 (870)\ttotal: 2.1s\tremaining: 0us\n",
            "\n",
            "bestTest = 0.001487790715\n",
            "bestIteration = 870\n",
            "\n",
            "Shrink model to first 871 iterations.\n"
          ]
        },
        {
          "output_type": "execute_result",
          "data": {
            "text/plain": [
              "<catboost.core.CatBoostClassifier at 0x7c7b505c8130>"
            ]
          },
          "metadata": {},
          "execution_count": 128
        }
      ]
    },
    {
      "cell_type": "code",
      "source": [
        "def print_feature_importance(feature_importances, feature_names):\n",
        "\n",
        "    feature_importance_pairs = [(feature_names[i], importance) for i, importance in enumerate(feature_importances)]\n",
        "    feature_importance_pairs = sorted(feature_importance_pairs, key=lambda x: x[1], reverse=True)\n",
        "    print(\"Feature Importance (Descending Order):\")\n",
        "    for feature_name, importance in feature_importance_pairs:\n",
        "        print(f\"{feature_name}: {importance}\")\n",
        "\n",
        "print_feature_importance(model_3.feature_importances_, X_train_3.columns)"
      ],
      "metadata": {
        "colab": {
          "base_uri": "https://localhost:8080/"
        },
        "outputId": "68170273-e235-4671-f280-2374f282c8ed",
        "id": "RPGFBbZIJYf6"
      },
      "execution_count": null,
      "outputs": [
        {
          "output_type": "stream",
          "name": "stdout",
          "text": [
            "Feature Importance (Descending Order):\n",
            "diff_runs: 85.21751750122871\n",
            "diff_bowling_avg: 4.042918319303639\n",
            "diff_balls: 2.872454802365182\n",
            "diff_avg_wickets_last3: 2.3962285710566777\n",
            "diff_wickets: 1.559262835292169\n",
            "diff_batting_avg: 1.5129859276738256\n",
            "diff_avg_runs_last3: 1.4693551342763385\n",
            "diff_no_50s_last3: 0.9292769088034659\n",
            "diff_century: 0.0\n",
            "diff_dots: 0.0\n",
            "diff_fours: 0.0\n",
            "diff_maiden: 0.0\n",
            "diff_wicket_count: 0.0\n",
            "diff_sixes: 0.0\n",
            "diff_4_wicket_hauls: 0.0\n",
            "diff_5_wicket_hauls: 0.0\n",
            "diff_strike_rate: 0.0\n",
            "diff_noballs: 0.0\n",
            "diff_boundary_rate: 0.0\n",
            "diff_not_out: 0.0\n",
            "diff_runs_conceded: 0.0\n",
            "diff_economy: 0.0\n",
            "diff_wides: 0.0\n",
            "diff_fifties: 0.0\n"
          ]
        }
      ]
    },
    {
      "cell_type": "code",
      "source": [
        "from sklearn.metrics import confusion_matrix\n",
        "\n",
        "y_pred_3 = model_3.predict(X_test_3)\n",
        "cm = confusion_matrix(y_test_3, y_pred_3)\n",
        "print(cm)"
      ],
      "metadata": {
        "colab": {
          "base_uri": "https://localhost:8080/"
        },
        "outputId": "043c2b47-583c-4ba3-b36f-02f1cfba2874",
        "id": "A27a5QPRJYf6"
      },
      "execution_count": null,
      "outputs": [
        {
          "output_type": "stream",
          "name": "stdout",
          "text": [
            "[[53  0]\n",
            " [ 0 32]]\n"
          ]
        }
      ]
    },
    {
      "cell_type": "markdown",
      "source": [
        "**Combining models 1, 2 and 3**"
      ],
      "metadata": {
        "id": "vAASfTaYI3pK"
      }
    },
    {
      "cell_type": "code",
      "source": [
        "# Using X_val to train combined model\n",
        "\n",
        "x1 = X_val[['team1_rf', 'team1_rfm','team1_l', 'team1_lf', 'team1_lfm', 'team1_lg','team2_lhb', 'team2_lm',\n",
        "            'team1_lmf', 'team1_ls', 'team1_lsm', 'team1_lws',  'team2_l', 'team2_lbw', 'team2_lf', 'team2_lg',\n",
        "            'team2_ls', 'team2_lsm', 'team2_lws', 'team2_rmf','team2_ro','team1_lbw','team2_rhb', 'team1_slo', 'team2_slo',\n",
        "            'team1_rhb','team1_ro','team2_rm','team2_lfm','team2_rfm','team2_rf','team1_lhb','team1_lm','team2_lmf',\n",
        "            'by','city','win amount','umpire1','umpire2','venue','win_pct_3',\n",
        "            'ground_avg_wickets', 'ground_avg_runs','ground_id', 'lighting', 'team1_id', 'team2_id',\n",
        "            'season', 'series_name', 'series_type',  'winner_1st_bat','toss decision','toss winner',\n",
        "            ]]\n",
        "x2= X_val[['team1_runs','team2_runs','team1_balls','team2_avg_runs_last3','team1_fours','team2_caught',\n",
        "           'team2_wides','team2_boundary_rate','team2_sixes','team2_bowling_avg','team1_batting_avg','team1_no_50s_last3','team1_wickets',\n",
        "           'team2_balls','team2_wicket_count','team2_fours','team1_sixes','team1_wides','team2_fifties','team2_wickets',\n",
        "           'team1_runs_conceded','team1_maiden','team2_batting_avg','team1_bowling_avg', 'team1_strike_rate','team2_avg_wickets_last3',\n",
        "           'team1_boundary_rate','team1_avg_wickets_last3','team2_century', 'team2_dots','team1_4_wicket_hauls', 'team1_5_wicket_hauls',\n",
        "           'team1_avg_runs_last3', 'team1_bowled', 'team1_caught_bowled','team1_century', 'team1_dots', 'team1_economy',\n",
        "           'team1_fifties', 'team1_hit_wicket', 'team1_wicket_count','team2_4_wicket_hauls','team2_5_wicket_hauls','team2_maiden',\n",
        "           'team2_no_50s_last3','team2_runs_conceded','team2_strike_rate','team1_noballs', 'team1_not_out', 'team1_retired_hurt',\n",
        "           'team1_retired_not_out', 'team1_retired_out','team2_retired_out','team2_noballs','team2_retired_hurt','team2_retired_not_out',\n",
        "           'team1_rm', 'team1_rmf', 'team1_runout', 'team1_stumped', 'team2_bowled',\n",
        "           'team2_caught_bowled',  'team2_hit_wicket','team2_runout','team2_stumped','team2_not_out','team1_caught'\n",
        "            ]]\n",
        "x3 = X_val[['diff_century', 'diff_dots', 'diff_fours', 'diff_maiden', 'diff_wicket_count', 'diff_wickets','diff_sixes',\n",
        "            'diff_4_wicket_hauls', 'diff_5_wicket_hauls', 'diff_avg_runs_last3','diff_strike_rate','diff_noballs','diff_boundary_rate',\n",
        "            'diff_avg_wickets_last3', 'diff_batting_avg','diff_not_out','diff_no_50s_last3','diff_runs','diff_bowling_avg',\n",
        "            'diff_runs_conceded', 'diff_economy', 'diff_wides','diff_balls','diff_fifties'\n",
        "            ]]"
      ],
      "metadata": {
        "id": "vzIlwOBNGXXj"
      },
      "execution_count": null,
      "outputs": []
    },
    {
      "cell_type": "code",
      "source": [
        "# Prediction of models 1, 2 and 3 on X_val will be combined and this will be the training data for the meta-model.\n",
        "\n",
        "pred_1 = model_1.predict(x1)\n",
        "pred_2 = model_2.predict(x2)\n",
        "pred_3 = model_3.predict(x3)"
      ],
      "metadata": {
        "id": "EHudgnwgGXUn"
      },
      "execution_count": null,
      "outputs": []
    },
    {
      "cell_type": "code",
      "source": [
        "# Combining predictions\n",
        "\n",
        "combined_predictions = np.vstack((pred_1, pred_2, pred_3)).T"
      ],
      "metadata": {
        "id": "ZKbgwD7YAiT1"
      },
      "execution_count": null,
      "outputs": []
    },
    {
      "cell_type": "code",
      "source": [
        "# Using Gradient Boosting Classifier for training the meta model\n",
        "\n",
        "from sklearn.ensemble import GradientBoostingClassifier\n",
        "\n",
        "meta_model = GradientBoostingClassifier().fit(combined_predictions, y_val)\n",
        "final_predictions = meta_model.predict(combined_predictions)"
      ],
      "metadata": {
        "id": "07ROeZtAEhUW"
      },
      "execution_count": null,
      "outputs": []
    },
    {
      "cell_type": "code",
      "source": [
        "from sklearn.metrics import confusion_matrix\n",
        "\n",
        "cm = confusion_matrix(final_predictions, y_val)\n",
        "print(cm)"
      ],
      "metadata": {
        "colab": {
          "base_uri": "https://localhost:8080/"
        },
        "id": "rK4liALeEhOo",
        "outputId": "96d1103d-40ae-4b6a-bd9e-f727d3653401"
      },
      "execution_count": null,
      "outputs": [
        {
          "output_type": "stream",
          "name": "stdout",
          "text": [
            "[[129   0]\n",
            " [  1 139]]\n"
          ]
        }
      ]
    },
    {
      "cell_type": "code",
      "source": [
        "# Now testing the final model using X_test\n",
        "\n",
        "x1_test = X_test[['team1_rf', 'team1_rfm','team1_l', 'team1_lf', 'team1_lfm', 'team1_lg','team2_lhb', 'team2_lm',\n",
        "                  'team1_lmf', 'team1_ls', 'team1_lsm', 'team1_lws',  'team2_l', 'team2_lbw', 'team2_lf', 'team2_lg',\n",
        "                  'team2_ls', 'team2_lsm', 'team2_lws', 'team2_rmf','team2_ro','team1_lbw','team2_rhb', 'team1_slo', 'team2_slo',\n",
        "                  'team1_rhb','team1_ro','team2_rm','team2_lfm','team2_rfm','team2_rf','team1_lhb','team1_lm','team2_lmf',\n",
        "                   'by','city','win amount','umpire1','umpire2','venue','win_pct_3',\n",
        "                  'ground_avg_wickets', 'ground_avg_runs','ground_id', 'lighting', 'team1_id', 'team2_id',\n",
        "                  'season', 'series_name', 'series_type',  'winner_1st_bat','toss decision','toss winner',\n",
        "                  ]]\n",
        "\n",
        "x2_test = X_test[['team1_runs','team2_runs','team1_balls','team2_avg_runs_last3','team1_fours','team2_caught',\n",
        "                  'team2_wides','team2_boundary_rate','team2_sixes','team2_bowling_avg','team1_batting_avg','team1_no_50s_last3','team1_wickets',\n",
        "                   'team2_balls','team2_wicket_count','team2_fours','team1_sixes','team1_wides','team2_fifties','team2_wickets',\n",
        "                  'team1_runs_conceded','team1_maiden','team2_batting_avg','team1_bowling_avg', 'team1_strike_rate','team2_avg_wickets_last3',\n",
        "                  'team1_boundary_rate','team1_avg_wickets_last3','team2_century', 'team2_dots','team1_4_wicket_hauls', 'team1_5_wicket_hauls',\n",
        "                   'team1_avg_runs_last3', 'team1_bowled', 'team1_caught_bowled','team1_century', 'team1_dots', 'team1_economy',\n",
        "                   'team1_fifties', 'team1_hit_wicket', 'team1_wicket_count','team2_4_wicket_hauls','team2_5_wicket_hauls','team2_maiden',\n",
        "                   'team2_no_50s_last3','team2_runs_conceded','team2_strike_rate','team1_noballs', 'team1_not_out', 'team1_retired_hurt',\n",
        "                   'team1_retired_not_out', 'team1_retired_out','team2_retired_out','team2_noballs','team2_retired_hurt','team2_retired_not_out',\n",
        "                   'team1_rm', 'team1_rmf', 'team1_runout', 'team1_stumped', 'team2_bowled',\n",
        "                   'team2_caught_bowled',  'team2_hit_wicket','team2_runout','team2_stumped','team2_not_out','team1_caught'\n",
        "                   ]]\n",
        "x3_test = X_test[['diff_century', 'diff_dots', 'diff_fours', 'diff_maiden', 'diff_wicket_count', 'diff_wickets','diff_sixes',\n",
        "                   'diff_4_wicket_hauls', 'diff_5_wicket_hauls', 'diff_avg_runs_last3','diff_strike_rate','diff_noballs','diff_boundary_rate',\n",
        "                   'diff_avg_wickets_last3', 'diff_batting_avg','diff_not_out','diff_no_50s_last3','diff_runs','diff_bowling_avg',\n",
        "                   'diff_runs_conceded', 'diff_economy', 'diff_wides','diff_balls','diff_fifties'\n",
        "                   ]]\n",
        "\n",
        "pred_1 = model_1.predict(x1_test)\n",
        "pred_2 = model_2.predict(x2_test)\n",
        "pred_3 = model_3.predict(x3_test)\n",
        "\n",
        "combined_predictions = np.vstack((pred_1, pred_2, pred_3)).T\n",
        "\n",
        "final_predictions = meta_model.predict(combined_predictions)\n",
        "\n",
        "cm = confusion_matrix(final_predictions, y_test)\n",
        "print(cm)"
      ],
      "metadata": {
        "colab": {
          "base_uri": "https://localhost:8080/"
        },
        "id": "kTe5wBVfKvje",
        "outputId": "5564facb-c97d-46fb-9eb1-fc8bf058ffc8"
      },
      "execution_count": null,
      "outputs": [
        {
          "output_type": "stream",
          "name": "stdout",
          "text": [
            "[[443   0]\n",
            " [  0 414]]\n"
          ]
        }
      ]
    }
  ]
}